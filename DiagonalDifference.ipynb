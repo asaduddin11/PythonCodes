{
  "nbformat": 4,
  "nbformat_minor": 0,
  "metadata": {
    "colab": {
      "name": "DiagonalDifference.ipynb",
      "version": "0.3.2",
      "provenance": [],
      "toc_visible": true,
      "include_colab_link": true
    },
    "kernelspec": {
      "name": "python3",
      "display_name": "Python 3"
    }
  },
  "cells": [
    {
      "cell_type": "markdown",
      "metadata": {
        "id": "view-in-github",
        "colab_type": "text"
      },
      "source": [
        "<a href=\"https://colab.research.google.com/github/asaduddin11/PythonCodes/blob/Dev/DiagonalDifference.ipynb\" target=\"_parent\"><img src=\"https://colab.research.google.com/assets/colab-badge.svg\" alt=\"Open In Colab\"/></a>"
      ]
    },
    {
      "cell_type": "markdown",
      "metadata": {
        "id": "hHHKLjRHQkon",
        "colab_type": "text"
      },
      "source": [
        "#Python program to find the absolute value of the difference between the two diagonals of a matrix. \n",
        "## Inspiration from: https://www.hackerrank.com/challenges/diagonal-difference/problem?isFullScreen=false&h_r=next-challenge&h_v=zen&h_r=next-challenge&h_v=zen"
      ]
    },
    {
      "cell_type": "code",
      "metadata": {
        "id": "gpaaVfTmQwqn",
        "colab_type": "code",
        "colab": {
          "base_uri": "https://localhost:8080/",
          "height": 86
        },
        "outputId": "6917590b-ce71-4938-b84c-b8f075183e7e"
      },
      "source": [
        "import os\n",
        "#os.environ['OUTPUT_PATH'] = \"/content/output\"\n",
        "def diagonalDifference(arr):\n",
        "    one = []\n",
        "    two = []\n",
        "    for row in range(len(arr)):\n",
        "        one.insert(row,arr[row][row])\n",
        "        j = len(arr)-row -1\n",
        "        two.insert(row, arr[row][j])\n",
        "    return abs(sum(one)-sum(two))\n",
        "\n",
        "if __name__ == '__main__':\n",
        "    fptr = open(os.environ['OUTPUT_PATH'], 'w')\n",
        "    n = int(input().strip())\n",
        "    arr = []\n",
        "    for _ in range(n):\n",
        "        arr.append(list(map(int, input().rstrip().split())))\n",
        "    result = diagonalDifference(arr)\n",
        "    fptr.write(str(result) + '\\n')\n",
        "    fptr.close()\n",
        "\n",
        "\n",
        "\n",
        "\n"
      ],
      "execution_count": 10,
      "outputs": [
        {
          "output_type": "stream",
          "text": [
            "3\n",
            "11 2 4\n",
            "4 5 6\n",
            "10 8 -12\n"
          ],
          "name": "stdout"
        }
      ]
    },
    {
      "cell_type": "markdown",
      "metadata": {
        "id": "TbJUKOuDRnME",
        "colab_type": "text"
      },
      "source": [
        "###If you receive a KeyError on 'OUTPUT_PATH', make sure your environment variable 'OUTPUT_PATH' is set to a valid location.\n",
        "###If you are using PyCharm you can set your environment variables in Run -> Edit Configurations. \n",
        "###If you are using Google Colab, uncomment line number 2. The output of our file will be stored ibn the contents folder of you google colab. "
      ]
    }
  ]
}