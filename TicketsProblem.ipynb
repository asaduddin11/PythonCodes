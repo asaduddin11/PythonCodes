{
  "nbformat": 4,
  "nbformat_minor": 0,
  "metadata": {
    "colab": {
      "name": "TicketsProblem.ipynb",
      "version": "0.3.2",
      "provenance": [],
      "include_colab_link": true
    },
    "kernelspec": {
      "name": "python3",
      "display_name": "Python 3"
    }
  },
  "cells": [
    {
      "cell_type": "markdown",
      "metadata": {
        "id": "view-in-github",
        "colab_type": "text"
      },
      "source": [
        "<a href=\"https://colab.research.google.com/github/asaduddin11/PythonCodes/blob/master/TicketsProblem.ipynb\" target=\"_parent\"><img src=\"https://colab.research.google.com/assets/colab-badge.svg\" alt=\"Open In Colab\"/></a>"
      ]
    },
    {
      "metadata": {
        "id": "kHlr8_LIuCyf",
        "colab_type": "text"
      },
      "cell_type": "markdown",
      "source": [
        "#The Question:\n",
        "  The new \"Avengers\" movie has just been released! There are a lot of people at the cinema box office standing in a huge line. Each of them has a single 100, 50 or 25 dollars bill. An \"Avengers\" ticket costs 25 dollars.\n",
        "  Vasya is currently working as a clerk. He wants to sell a ticket to every single person in this line.\n",
        "  Can Vasya sell a ticket to each person and give the change if he initially has no money and sells the tickets strictly in the order people follow in the line?\n",
        "  Return YES, if Vasya can sell a ticket to each person and give the change with the bills he has at hand at that moment. Otherwise return NO.\n",
        "    \n",
        "   ## This has been ispired from: https://www.codewars.com/kata/vasya-clerk/train/python"
      ]
    },
    {
      "metadata": {
        "id": "pLimzjeeuIZR",
        "colab_type": "text"
      },
      "cell_type": "markdown",
      "source": [
        "## My First Solution:"
      ]
    },
    {
      "metadata": {
        "id": "rfAWsFv4tXl8",
        "colab_type": "code",
        "colab": {}
      },
      "cell_type": "code",
      "source": [
        "def tickets(people):\n",
        "    change = [0 for x in range(3)]\n",
        "    print(people)\n",
        "    for buy in people:\n",
        "        if(buy > 25):\n",
        "            if(buy - 25 < 50):\n",
        "                if(change[0] >= 1):\n",
        "                    change[0] -= 1\n",
        "                    change[1] += 1\n",
        "                else:\n",
        "                    return \"NO\"\n",
        "            else:\n",
        "                if(change[0] >= 1 and change[1] >= 1):\n",
        "                    change[0] -= 1\n",
        "                    change[1] -= 1\n",
        "                    change[2] += 1\n",
        "                elif(change[0] > 2):\n",
        "                    change[0] -= 3\n",
        "                    change[2] += 1\n",
        "                else:\n",
        "                    return \"NO\"                    \n",
        "        else:\n",
        "            change[0] += 1                \n",
        "    if change != []:\n",
        "        print(change)\n",
        "        return \"YES\""
      ],
      "execution_count": 0,
      "outputs": []
    },
    {
      "metadata": {
        "id": "CWOaHPqtuPK1",
        "colab_type": "code",
        "colab": {}
      },
      "cell_type": "code",
      "source": [
        ""
      ],
      "execution_count": 0,
      "outputs": []
    }
  ]
}